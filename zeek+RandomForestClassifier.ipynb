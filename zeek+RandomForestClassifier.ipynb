{
  "cells": [
    {
      "cell_type": "markdown",
      "metadata": {
        "id": "view-in-github",
        "colab_type": "text"
      },
      "source": [
        "<a href=\"https://colab.research.google.com/github/CyOwl-V/IDS-Project/blob/main/zeek%2BRandomForestClassifier.ipynb\" target=\"_parent\"><img src=\"https://colab.research.google.com/assets/colab-badge.svg\" alt=\"Open In Colab\"/></a>"
      ]
    },
    {
      "cell_type": "code",
      "execution_count": 37,
      "metadata": {
        "colab": {
          "base_uri": "https://localhost:8080/"
        },
        "id": "CJn9jereDbZX",
        "outputId": "ff277a3a-2501-4822-9f92-72b6aa8bc161"
      },
      "outputs": [
        {
          "output_type": "stream",
          "name": "stdout",
          "text": [
            "Drive already mounted at /content/gdrive; to attempt to forcibly remount, call drive.mount(\"/content/gdrive\", force_remount=True).\n"
          ]
        }
      ],
      "source": [
        "from google.colab import drive\n",
        "drive.mount('/content/gdrive')"
      ]
    },
    {
      "cell_type": "code",
      "execution_count": 36,
      "metadata": {
        "colab": {
          "base_uri": "https://localhost:8080/"
        },
        "id": "_rqJsSGEfXqV",
        "outputId": "570e741a-e1f8-4f5f-c3a7-f36f10dc6461"
      },
      "outputs": [
        {
          "output_type": "stream",
          "name": "stdout",
          "text": [
            "/content/gdrive/MyDrive/Colab Notebooks/zeek\n"
          ]
        }
      ],
      "source": [
        "cd'/content/gdrive/MyDrive/Colab Notebooks/zeek'"
      ]
    },
    {
      "cell_type": "code",
      "execution_count": null,
      "metadata": {
        "id": "xNWy_R2JfRtN"
      },
      "outputs": [],
      "source": [
        "\n",
        "# ایمپورت pandas\n",
        "import pandas as pd\n",
        "\n",
        "# تابع برای خواندن فایل Zeek conn.log\n",
        "def parse_connlog(path):\n",
        "    with open(path) as f:\n",
        "        lines = f.readlines()\n",
        "\n",
        "    # پیدا کردن خطی که اسامی ستون‌ها را دارد\n",
        "    cols = []\n",
        "    for line in lines:\n",
        "        if line.startswith(\"#fields\"):\n",
        "            cols = line.strip().split(\"\\t\")[1:]  # حذف \"#fields\"\n",
        "            break\n",
        "\n",
        "    # خواندن داده‌های بدون خط‌های کامنت (#)\n",
        "    data = [line.strip().split(\"\\t\") for line in lines if not line.startswith(\"#\")]\n",
        "\n",
        "    # ساخت DataFrame\n",
        "    df = pd.DataFrame(data, columns=cols)\n",
        "    return df\n",
        "\n",
        "# خواندن دو فایل conn.log\n",
        "df_normal = parse_connlog(\"conn-normal.log\")\n",
        "df_ddos = parse_connlog(\"conn-ddos.log\")\n",
        "\n"
      ]
    },
    {
      "cell_type": "code",
      "execution_count": null,
      "metadata": {
        "id": "LDc6NwNGMZfV"
      },
      "outputs": [],
      "source": [
        "# ذخیره‌سازی داده‌ها به فرمت CSV\n",
        "def save_to_csv():\n",
        "    # خواندن دو فایل conn.log\n",
        "    df_normal = parse_connlog(\"conn-normal.log\")\n",
        "    df_ddos = parse_connlog(\"conn-ddos.log\")\n",
        "\n",
        "    # ذخیره داده‌ها به فرمت CSV\n",
        "    df_normal.to_csv(\"conn-normal.csv\", index=False)\n",
        "    df_ddos.to_csv(\"conn-ddos.csv\", index=False)\n",
        "\n",
        "# فراخوانی تابع برای ذخیره‌سازی فایل‌های CSV\n",
        "save_to_csv()\n"
      ]
    },
    {
      "cell_type": "code",
      "execution_count": null,
      "metadata": {
        "colab": {
          "base_uri": "https://localhost:8080/"
        },
        "id": "ZrFxD1lAECcc",
        "outputId": "245862dc-8b59-4dd1-8c31-4e8282b96032"
      },
      "outputs": [
        {
          "name": "stdout",
          "output_type": "stream",
          "text": [
            "✅ نمونه‌ای از ترافیک نرمال:\n",
            "                  ts                 uid        id.orig_h id.orig_p  \\\n",
            "0  1746614020.759923  Cvfap41RFDaLCazYn4  192.168.159.128     44300   \n",
            "1  1746614027.671921  CF15Zg2KEbRJ9UIxhl  192.168.159.128     52416   \n",
            "2  1746614027.672127  CPZ0Ad48AXRuMkxR42  192.168.159.128     58392   \n",
            "3  1746614032.677563  CbYx0c4ygQHUo9rCh2  192.168.159.128     48564   \n",
            "4  1746614037.784046  CoqgMI1MMzDNN2V18i  192.168.159.128     48564   \n",
            "\n",
            "       id.resp_h id.resp_p proto service  duration orig_bytes  ... local_orig  \\\n",
            "0  192.168.159.1        53   tcp       -  4.096057          0  ...          T   \n",
            "1  192.168.159.1        53   udp     dns         -          -  ...          T   \n",
            "2  192.168.159.1        53   udp     dns         -          -  ...          T   \n",
            "3  192.168.159.1        53   tcp       -  4.082357          0  ...          T   \n",
            "4  192.168.159.1        53   tcp       -  2.048237          0  ...          T   \n",
            "\n",
            "  local_resp missed_bytes history orig_pkts orig_ip_bytes resp_pkts  \\\n",
            "0          T            0       S         4           240         0   \n",
            "1          T            0       D         1            60         0   \n",
            "2          T            0       D         1            60         0   \n",
            "3          T            0       S         5           304         0   \n",
            "4          T            0       S         2           120         0   \n",
            "\n",
            "  resp_ip_bytes tunnel_parents ip_proto  \n",
            "0             0              -        6  \n",
            "1             0              -       17  \n",
            "2             0              -       17  \n",
            "3             0              -        6  \n",
            "4             0              -        6  \n",
            "\n",
            "[5 rows x 22 columns]\n",
            "\n",
            "✅ نمونه‌ای از ترافیک DDoS:\n",
            "                  ts                 uid        id.orig_h id.orig_p  \\\n",
            "0  1746615216.303842  C92iNL35UaBi53fLfe  192.168.159.128     40050   \n",
            "1  1746615216.265790  CSkgXh3fV2On0Qa8F2  192.168.159.128     53839   \n",
            "2  1746615216.265872   Cxb4RjqbZBw6T3dN9  192.168.159.128     50049   \n",
            "3  1746615221.463529  Cu5XHm3LRpwlLaAi82  192.168.159.128     40050   \n",
            "4  1746615228.750897  CiGgH71kk4kMGpOexj  192.168.159.130      1700   \n",
            "\n",
            "         id.resp_h id.resp_p proto service  duration orig_bytes  ...  \\\n",
            "0    192.168.159.1        53   tcp       -  4.135663          0  ...   \n",
            "1    192.168.159.1        53   udp     dns         -          -  ...   \n",
            "2    192.168.159.1        53   udp     dns         -          -  ...   \n",
            "3    192.168.159.1        53   tcp       -  2.048236          0  ...   \n",
            "4  192.168.159.129        80   tcp       -  0.000459          0  ...   \n",
            "\n",
            "  local_orig local_resp missed_bytes history orig_pkts orig_ip_bytes  \\\n",
            "0          T          T            0       S         5           304   \n",
            "1          T          T            0       D         1            76   \n",
            "2          T          T            0       D         1            76   \n",
            "3          T          T            0       S         2           120   \n",
            "4          T          T            0     ShR         2            80   \n",
            "\n",
            "  resp_pkts resp_ip_bytes tunnel_parents ip_proto  \n",
            "0         0             0              -        6  \n",
            "1         0             0              -       17  \n",
            "2         0             0              -       17  \n",
            "3         0             0              -        6  \n",
            "4         1            44              -        6  \n",
            "\n",
            "[5 rows x 22 columns]\n"
          ]
        }
      ],
      "source": [
        "# نمایش ۵ سطر اول هر فایل\n",
        "print(\"✅ نمونه‌ای از ترافیک نرمال:\")\n",
        "print(df_normal.head())\n",
        "\n",
        "print(\"\\n✅ نمونه‌ای از ترافیک DDoS:\")\n",
        "print(df_ddos.head())\n"
      ]
    },
    {
      "cell_type": "code",
      "execution_count": null,
      "metadata": {
        "id": "tCnpxiuVfYNo"
      },
      "outputs": [],
      "source": [
        "# پیش‌پردازش ویژگی‌ها و تبدیل به عدد\n",
        "def preprocess(df):\n",
        "    return df[[\"duration\", \"orig_bytes\", \"resp_bytes\", \"orig_pkts\", \"resp_pkts\"]].apply(pd.to_numeric, errors=\"coerce\").fillna(0)\n",
        "\n",
        "# اعمال پیش‌پردازش روی داده‌های نرمال و ddos\n",
        "X_normal = preprocess(df_normal)\n",
        "X_ddos = preprocess(df_ddos)\n",
        "\n",
        "# افزودن برچسب\n",
        "X_normal[\"label\"] = 0  # ترافیک نرمال\n",
        "X_ddos[\"label\"] = 1    # ترافیک حمله\n",
        "\n",
        "# ترکیب داده‌ها\n",
        "data = pd.concat([X_normal, X_ddos], ignore_index=True)\n",
        "\n",
        "# جدا کردن ویژگی‌ها و برچسب\n",
        "X = data.drop(\"label\", axis=1)\n",
        "y = data[\"label\"]\n"
      ]
    },
    {
      "cell_type": "code",
      "execution_count": null,
      "metadata": {
        "colab": {
          "base_uri": "https://localhost:8080/"
        },
        "id": "vdpIsd-yfbSJ",
        "outputId": "7c81351b-6450-4c69-e2e5-0bda200e694d"
      },
      "outputs": [
        {
          "name": "stdout",
          "output_type": "stream",
          "text": [
            " گزارش عملکرد مدل:\n",
            "              precision    recall  f1-score   support\n",
            "\n",
            "           0       0.93      0.19      0.31       221\n",
            "           1       1.00      1.00      1.00    172751\n",
            "\n",
            "    accuracy                           1.00    172972\n",
            "   macro avg       0.97      0.59      0.65    172972\n",
            "weighted avg       1.00      1.00      1.00    172972\n",
            "\n"
          ]
        }
      ],
      "source": [
        "from sklearn.ensemble import RandomForestClassifier\n",
        "from sklearn.model_selection import train_test_split\n",
        "from sklearn.metrics import classification_report\n",
        "\n",
        "# فرض: X = ویژگی‌ها، y = برچسب‌ها (label)\n",
        "\n",
        "# تقسیم داده به آموزش و تست\n",
        "X_train, X_test, y_train, y_test = train_test_split(X, y, test_size=0.2, random_state=42)\n",
        "\n",
        "# آموزش مدل Random Forest\n",
        "clf = RandomForestClassifier()\n",
        "clf.fit(X_train, y_train)\n",
        "\n",
        "# پیش‌بینی روی داده تست\n",
        "y_pred = clf.predict(X_test)\n",
        "\n",
        "# نمایش گزارش عملکرد\n",
        "print(\" گزارش عملکرد مدل:\")\n",
        "print(classification_report(y_test, y_pred))\n"
      ]
    },
    {
      "cell_type": "code",
      "execution_count": null,
      "metadata": {
        "colab": {
          "base_uri": "https://localhost:8080/"
        },
        "id": "cLTRgwB1dz-A",
        "outputId": "0f8a12fa-5974-4970-8008-65eba3992d94"
      },
      "outputs": [
        {
          "data": {
            "text/plain": [
              "['model.pkl']"
            ]
          },
          "execution_count": 14,
          "metadata": {},
          "output_type": "execute_result"
        }
      ],
      "source": [
        "import joblib\n",
        "\n",
        "# ذخیره مدل\n",
        "joblib.dump(clf, \"model.pkl\")"
      ]
    },
    {
      "cell_type": "code",
      "execution_count": null,
      "metadata": {
        "colab": {
          "base_uri": "https://localhost:8080/",
          "height": 17
        },
        "id": "acHvktuwd6PX",
        "outputId": "0c1153b1-d893-41cf-e358-77f1ed4790d7"
      },
      "outputs": [
        {
          "data": {
            "application/javascript": [
              "\n",
              "    async function download(id, filename, size) {\n",
              "      if (!google.colab.kernel.accessAllowed) {\n",
              "        return;\n",
              "      }\n",
              "      const div = document.createElement('div');\n",
              "      const label = document.createElement('label');\n",
              "      label.textContent = `Downloading \"${filename}\": `;\n",
              "      div.appendChild(label);\n",
              "      const progress = document.createElement('progress');\n",
              "      progress.max = size;\n",
              "      div.appendChild(progress);\n",
              "      document.body.appendChild(div);\n",
              "\n",
              "      const buffers = [];\n",
              "      let downloaded = 0;\n",
              "\n",
              "      const channel = await google.colab.kernel.comms.open(id);\n",
              "      // Send a message to notify the kernel that we're ready.\n",
              "      channel.send({})\n",
              "\n",
              "      for await (const message of channel.messages) {\n",
              "        // Send a message to notify the kernel that we're ready.\n",
              "        channel.send({})\n",
              "        if (message.buffers) {\n",
              "          for (const buffer of message.buffers) {\n",
              "            buffers.push(buffer);\n",
              "            downloaded += buffer.byteLength;\n",
              "            progress.value = downloaded;\n",
              "          }\n",
              "        }\n",
              "      }\n",
              "      const blob = new Blob(buffers, {type: 'application/binary'});\n",
              "      const a = document.createElement('a');\n",
              "      a.href = window.URL.createObjectURL(blob);\n",
              "      a.download = filename;\n",
              "      div.appendChild(a);\n",
              "      a.click();\n",
              "      div.remove();\n",
              "    }\n",
              "  "
            ],
            "text/plain": [
              "<IPython.core.display.Javascript object>"
            ]
          },
          "metadata": {},
          "output_type": "display_data"
        },
        {
          "data": {
            "application/javascript": [
              "download(\"download_511f60da-e219-4c04-aa49-8af15d19933c\", \"model.pkl\", 201673)"
            ],
            "text/plain": [
              "<IPython.core.display.Javascript object>"
            ]
          },
          "metadata": {},
          "output_type": "display_data"
        }
      ],
      "source": [
        "from google.colab import files\n",
        "files.download(\"model.pkl\")\n"
      ]
    },
    {
      "cell_type": "code",
      "execution_count": null,
      "metadata": {
        "colab": {
          "base_uri": "https://localhost:8080/"
        },
        "id": "fYMfnq2m8idF",
        "outputId": "6aed7ef5-d6b5-429f-d9f0-2aa1adabd214"
      },
      "outputs": [
        {
          "name": "stdout",
          "output_type": "stream",
          "text": [
            "True Positives (TP): 99.87%\n",
            "False Positives (FP): 0.10%\n",
            "True Negatives (TN): 0.02%\n",
            "False Negatives (FN): 0.00%\n"
          ]
        }
      ],
      "source": [
        "from sklearn.metrics import confusion_matrix\n",
        "\n",
        "y_true = y_test\n",
        "y_pred = clf.predict(X_test)\n",
        "\n",
        "cm = confusion_matrix(y_true, y_pred)\n",
        "tn, fp, fn, tp = cm.ravel()\n",
        "\n",
        "total = tn + fp + fn + tp\n",
        "\n",
        "print(f\"True Positives (TP): {tp / total * 100:.2f}%\")\n",
        "print(f\"False Positives (FP): {fp / total * 100:.2f}%\")\n",
        "print(f\"True Negatives (TN): {tn / total * 100:.2f}%\")\n",
        "print(f\"False Negatives (FN): {fn / total * 100:.2f}%\")\n"
      ]
    },
    {
      "cell_type": "code",
      "execution_count": null,
      "metadata": {
        "colab": {
          "base_uri": "https://localhost:8080/",
          "height": 564
        },
        "id": "6TEIOfne9hUw",
        "outputId": "1e2eae10-066d-469a-db8e-b99e59c5f8e7"
      },
      "outputs": [
        {
          "data": {
            "image/png": "[encoded data removed]",
            "text/plain": [
              "<Figure size 800x600 with 1 Axes>"
            ]
          },
          "metadata": {},
          "output_type": "display_data"
        }
      ],
      "source": [
        "from sklearn.metrics import roc_curve, auc\n",
        "import matplotlib.pyplot as plt\n",
        "\n",
        "y_score = clf.predict_proba(X_test)[:, 1]\n",
        "\n",
        "fpr, tpr, thresholds = roc_curve(y_test, y_score)\n",
        "roc_auc = auc(fpr, tpr)\n",
        "\n",
        "plt.figure(figsize=(8,6))\n",
        "plt.plot(fpr, tpr, color='blue', label=f\"ROC curve (AUC = {roc_auc:.2f})\")\n",
        "plt.plot([0, 1], [0, 1], color='gray', linestyle='--')\n",
        "plt.xlabel(\"False Positive Rate\")\n",
        "plt.ylabel(\"True Positive Rate\")\n",
        "plt.title(\"Receiver Operating Characteristic (ROC)\")\n",
        "plt.legend(loc=\"lower right\")\n",
        "plt.grid(True)\n",
        "plt.show()\n"
      ]
    },
    {
      "cell_type": "code",
      "execution_count": 22,
      "metadata": {
        "colab": {
          "base_uri": "https://localhost:8080/"
        },
        "id": "lsiDILW_SnOw",
        "outputId": "b293534c-2834-48e5-dc42-adfc901518ab"
      },
      "outputs": [
        {
          "output_type": "stream",
          "name": "stdout",
          "text": [
            "['ts', 'uid', 'id.orig_h', 'id.orig_p', 'id.resp_h', 'id.resp_p', 'proto', 'service', 'duration', 'orig_bytes', 'resp_bytes', 'conn_state', 'local_orig', 'local_resp', 'missed_bytes', 'history', 'orig_pkts', 'orig_ip_bytes', 'resp_pkts', 'resp_ip_bytes', 'tunnel_parents', 'ip_proto']\n"
          ]
        }
      ],
      "source": [
        "def read_zeek_log(path):\n",
        "    with open(path, 'r') as f:\n",
        "        lines = f.readlines()\n",
        "\n",
        "    # پیدا کردن هدر (خطی که با '#fields' شروع می‌شه)\n",
        "    header_line = None\n",
        "    for line in lines:\n",
        "        if line.startswith(\"#fields\"):\n",
        "            header_line = line\n",
        "            break\n",
        "\n",
        "    if not header_line:\n",
        "        raise ValueError(\"No #fields line found in Zeek log!\")\n",
        "\n",
        "    # گرفتن اسم ستون‌ها\n",
        "    columns = header_line.strip().split()[1:]\n",
        "\n",
        "    # حذف خطوط meta و فقط داده‌ها رو نگه دار\n",
        "    data_lines = [line.strip().split(\"\\t\") for line in lines if not line.startswith(\"#\")]\n",
        "\n",
        "    # ساخت دیتافریم\n",
        "    df = pd.DataFrame(data_lines, columns=columns)\n",
        "    return df\n",
        "\n",
        "# استفاده:\n",
        "df = read_zeek_log(\"conn-pro.log\")\n",
        "print(df.columns.tolist())  # ستون‌ها رو ببین\n"
      ]
    },
    {
      "cell_type": "code",
      "source": [
        "import joblib\n",
        "\n",
        "clf = joblib.load(\"model.pkl\")\n"
      ],
      "metadata": {
        "id": "3AKo90LSWDFz"
      },
      "execution_count": 24,
      "outputs": []
    },
    {
      "cell_type": "code",
      "source": [
        "features = [\"duration\", \"orig_bytes\", \"resp_bytes\", \"orig_pkts\", \"resp_pkts\"]\n",
        "X_new = df[features].apply(pd.to_numeric, errors='coerce').fillna(0)\n",
        "\n",
        "# اگر مدل قبلاً آموزش داده شده:\n",
        "y_pred = clf.predict(X_new)\n",
        "df[\"prediction\"] = y_pred\n"
      ],
      "metadata": {
        "id": "PIt7JaUCVxEi"
      },
      "execution_count": 25,
      "outputs": []
    },
    {
      "cell_type": "code",
      "source": [
        "# شمارش تعداد نمونه‌ها بر اساس برچسب پیش‌بینی‌شده\n",
        "counts = df[\"prediction\"].value_counts()\n",
        "\n",
        "# تبدیل به درصد\n",
        "percentages = counts / counts.sum() * 100\n",
        "\n",
        "# نمایش\n",
        "for label, pct in percentages.items():\n",
        "    status = \"🔴 ناهنجار (DDoS)\" if label == 1 else \"🟢 نرمال\"\n",
        "    print(f\"{status}: {pct:.2f}%\")\n"
      ],
      "metadata": {
        "colab": {
          "base_uri": "https://localhost:8080/"
        },
        "id": "e1wd373YWVC3",
        "outputId": "e28e60fb-2805-43af-8d06-ed6d5cd9f57c"
      },
      "execution_count": 26,
      "outputs": [
        {
          "output_type": "stream",
          "name": "stdout",
          "text": [
            "🔴 ناهنجار (DDoS): 94.09%\n",
            "🟢 نرمال: 5.91%\n"
          ]
        }
      ]
    }
  ],
  "metadata": {
    "colab": {
      "provenance": [],
      "authorship_tag": "ABX9TyPnWYbH9w7EEGCZ4KsKkNKK",
      "include_colab_link": true
    },
    "kernelspec": {
      "display_name": "Python 3",
      "name": "python3"
    },
    "language_info": {
      "name": "python"
    }
  },
  "nbformat": 4,
  "nbformat_minor": 0
}