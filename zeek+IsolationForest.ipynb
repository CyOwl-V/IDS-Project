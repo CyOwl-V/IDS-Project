{
  "nbformat": 4,
  "nbformat_minor": 0,
  "metadata": {
    "colab": {
      "provenance": [],
      "authorship_tag": "ABX9TyO1iqV1D/JO1AMH2iwkjzn1",
      "include_colab_link": true
    },
    "kernelspec": {
      "name": "python3",
      "display_name": "Python 3"
    },
    "language_info": {
      "name": "python"
    }
  },
  "cells": [
    {
      "cell_type": "markdown",
      "metadata": {
        "id": "view-in-github",
        "colab_type": "text"
      },
      "source": [
        "<a href=\"https://colab.research.google.com/github/CyOwl-V/IDS-Project/blob/main/zeek%2BIsolationForest.ipynb\" target=\"_parent\"><img src=\"https://colab.research.google.com/assets/colab-badge.svg\" alt=\"Open In Colab\"/></a>"
      ]
    },
    {
      "cell_type": "code",
      "execution_count": 4,
      "metadata": {
        "id": "CJn9jereDbZX",
        "colab": {
          "base_uri": "https://localhost:8080/"
        },
        "outputId": "35e59be0-fbaa-4ce2-e7d8-c70b97926f98"
      },
      "outputs": [
        {
          "output_type": "stream",
          "name": "stdout",
          "text": [
            "Mounted at /content/gdrive\n"
          ]
        }
      ],
      "source": [
        "from google.colab import drive\n",
        "drive.mount('/content/gdrive')"
      ]
    },
    {
      "cell_type": "code",
      "source": [
        "cd'/content/gdrive/MyDrive/Colab Notebooks/zeek'"
      ],
      "metadata": {
        "id": "_rqJsSGEfXqV",
        "colab": {
          "base_uri": "https://localhost:8080/"
        },
        "outputId": "4599b52d-bc0b-4aab-f824-44b6ac37ff5a"
      },
      "execution_count": 5,
      "outputs": [
        {
          "output_type": "stream",
          "name": "stdout",
          "text": [
            "/content/gdrive/MyDrive/Colab Notebooks/zeek\n"
          ]
        }
      ]
    },
    {
      "cell_type": "code",
      "source": [],
      "metadata": {
        "id": "SPhTsyXMS2gp"
      },
      "execution_count": null,
      "outputs": []
    },
    {
      "cell_type": "code",
      "source": [
        "\n",
        "# ایمپورت pandas\n",
        "import pandas as pd\n",
        "\n",
        "# تابع برای خواندن فایل Zeek conn.log\n",
        "def parse_connlog(path):\n",
        "    with open(path) as f:\n",
        "        lines = f.readlines()\n",
        "\n",
        "    # پیدا کردن خطی که اسامی ستون‌ها را دارد\n",
        "    cols = []\n",
        "    for line in lines:\n",
        "        if line.startswith(\"#fields\"):\n",
        "            cols = line.strip().split(\"\\t\")[1:]  # حذف \"#fields\"\n",
        "            break\n",
        "\n",
        "    # خواندن داده‌های بدون خط‌های کامنت (#)\n",
        "    data = [line.strip().split(\"\\t\") for line in lines if not line.startswith(\"#\")]\n",
        "\n",
        "    # ساخت DataFrame\n",
        "    df = pd.DataFrame(data, columns=cols)\n",
        "    return df\n",
        "\n",
        "# خواندن دو فایل conn.log\n",
        "df_normal = parse_connlog(\"conn-normal.log\")\n",
        "df_ddos = parse_connlog(\"conn-ddos.log\")\n",
        "\n"
      ],
      "metadata": {
        "id": "xNWy_R2JfRtN"
      },
      "execution_count": 7,
      "outputs": []
    },
    {
      "cell_type": "code",
      "source": [
        "# نمایش ۵ سطر اول هر فایل\n",
        "print(\"✅ نمونه‌ای از ترافیک نرمال:\")\n",
        "print(df_normal.head())\n",
        "\n",
        "print(\"\\n✅ نمونه‌ای از ترافیک DDoS:\")\n",
        "print(df_ddos.head())\n"
      ],
      "metadata": {
        "colab": {
          "base_uri": "https://localhost:8080/"
        },
        "id": "ZrFxD1lAECcc",
        "outputId": "bdd66748-d0d3-41d5-9a92-9007bfefb265"
      },
      "execution_count": 8,
      "outputs": [
        {
          "output_type": "stream",
          "name": "stdout",
          "text": [
            "✅ نمونه‌ای از ترافیک نرمال:\n",
            "                  ts                 uid        id.orig_h id.orig_p  \\\n",
            "0  1746614020.759923  Cvfap41RFDaLCazYn4  192.168.159.128     44300   \n",
            "1  1746614027.671921  CF15Zg2KEbRJ9UIxhl  192.168.159.128     52416   \n",
            "2  1746614027.672127  CPZ0Ad48AXRuMkxR42  192.168.159.128     58392   \n",
            "3  1746614032.677563  CbYx0c4ygQHUo9rCh2  192.168.159.128     48564   \n",
            "4  1746614037.784046  CoqgMI1MMzDNN2V18i  192.168.159.128     48564   \n",
            "\n",
            "       id.resp_h id.resp_p proto service  duration orig_bytes  ... local_orig  \\\n",
            "0  192.168.159.1        53   tcp       -  4.096057          0  ...          T   \n",
            "1  192.168.159.1        53   udp     dns         -          -  ...          T   \n",
            "2  192.168.159.1        53   udp     dns         -          -  ...          T   \n",
            "3  192.168.159.1        53   tcp       -  4.082357          0  ...          T   \n",
            "4  192.168.159.1        53   tcp       -  2.048237          0  ...          T   \n",
            "\n",
            "  local_resp missed_bytes history orig_pkts orig_ip_bytes resp_pkts  \\\n",
            "0          T            0       S         4           240         0   \n",
            "1          T            0       D         1            60         0   \n",
            "2          T            0       D         1            60         0   \n",
            "3          T            0       S         5           304         0   \n",
            "4          T            0       S         2           120         0   \n",
            "\n",
            "  resp_ip_bytes tunnel_parents ip_proto  \n",
            "0             0              -        6  \n",
            "1             0              -       17  \n",
            "2             0              -       17  \n",
            "3             0              -        6  \n",
            "4             0              -        6  \n",
            "\n",
            "[5 rows x 22 columns]\n",
            "\n",
            "✅ نمونه‌ای از ترافیک DDoS:\n",
            "                  ts                 uid        id.orig_h id.orig_p  \\\n",
            "0  1746615216.303842  C92iNL35UaBi53fLfe  192.168.159.128     40050   \n",
            "1  1746615216.265790  CSkgXh3fV2On0Qa8F2  192.168.159.128     53839   \n",
            "2  1746615216.265872   Cxb4RjqbZBw6T3dN9  192.168.159.128     50049   \n",
            "3  1746615221.463529  Cu5XHm3LRpwlLaAi82  192.168.159.128     40050   \n",
            "4  1746615228.750897  CiGgH71kk4kMGpOexj  192.168.159.130      1700   \n",
            "\n",
            "         id.resp_h id.resp_p proto service  duration orig_bytes  ...  \\\n",
            "0    192.168.159.1        53   tcp       -  4.135663          0  ...   \n",
            "1    192.168.159.1        53   udp     dns         -          -  ...   \n",
            "2    192.168.159.1        53   udp     dns         -          -  ...   \n",
            "3    192.168.159.1        53   tcp       -  2.048236          0  ...   \n",
            "4  192.168.159.129        80   tcp       -  0.000459          0  ...   \n",
            "\n",
            "  local_orig local_resp missed_bytes history orig_pkts orig_ip_bytes  \\\n",
            "0          T          T            0       S         5           304   \n",
            "1          T          T            0       D         1            76   \n",
            "2          T          T            0       D         1            76   \n",
            "3          T          T            0       S         2           120   \n",
            "4          T          T            0     ShR         2            80   \n",
            "\n",
            "  resp_pkts resp_ip_bytes tunnel_parents ip_proto  \n",
            "0         0             0              -        6  \n",
            "1         0             0              -       17  \n",
            "2         0             0              -       17  \n",
            "3         0             0              -        6  \n",
            "4         1            44              -        6  \n",
            "\n",
            "[5 rows x 22 columns]\n"
          ]
        }
      ]
    },
    {
      "cell_type": "code",
      "source": [
        "# پیش‌پردازش ویژگی‌ها و تبدیل به عدد\n",
        "def preprocess(df):\n",
        "    return df[[\"duration\", \"orig_bytes\", \"resp_bytes\", \"orig_pkts\", \"resp_pkts\"]].apply(pd.to_numeric, errors=\"coerce\").fillna(0)\n",
        "\n",
        "# اعمال پیش‌پردازش روی داده‌های نرمال و ddos\n",
        "X_normal = preprocess(df_normal)\n",
        "X_ddos = preprocess(df_ddos)\n",
        "\n",
        "# افزودن برچسب\n",
        "X_normal[\"label\"] = 0  # ترافیک نرمال\n",
        "X_ddos[\"label\"] = 1    # ترافیک حمله\n",
        "\n",
        "# ترکیب داده‌ها\n",
        "data = pd.concat([X_normal, X_ddos], ignore_index=True)\n",
        "\n",
        "# جدا کردن ویژگی‌ها و برچسب\n",
        "X = data.drop(\"label\", axis=1)\n",
        "y = data[\"label\"]\n"
      ],
      "metadata": {
        "id": "tCnpxiuVfYNo"
      },
      "execution_count": 11,
      "outputs": []
    },
    {
      "cell_type": "code",
      "source": [
        "from sklearn.ensemble import RandomForestClassifier\n",
        "from sklearn.model_selection import train_test_split\n",
        "from sklearn.metrics import classification_report\n",
        "\n",
        "# فرض: X = ویژگی‌ها، y = برچسب‌ها (label)\n",
        "\n",
        "# تقسیم داده به آموزش و تست\n",
        "X_train, X_test, y_train, y_test = train_test_split(X, y, test_size=0.2, random_state=42)\n",
        "\n",
        "# آموزش مدل Random Forest\n",
        "clf = RandomForestClassifier()\n",
        "clf.fit(X_train, y_train)\n",
        "\n",
        "# پیش‌بینی روی داده تست\n",
        "y_pred = clf.predict(X_test)\n",
        "\n",
        "# نمایش گزارش عملکرد\n",
        "print(\" گزارش عملکرد مدل:\")\n",
        "print(classification_report(y_test, y_pred))\n"
      ],
      "metadata": {
        "id": "vdpIsd-yfbSJ",
        "colab": {
          "base_uri": "https://localhost:8080/"
        },
        "outputId": "6a34aeab-78af-4717-bf56-401325ca1450"
      },
      "execution_count": 12,
      "outputs": [
        {
          "output_type": "stream",
          "name": "stdout",
          "text": [
            " گزارش عملکرد مدل:\n",
            "              precision    recall  f1-score   support\n",
            "\n",
            "           0       0.93      0.19      0.31       221\n",
            "           1       1.00      1.00      1.00    172751\n",
            "\n",
            "    accuracy                           1.00    172972\n",
            "   macro avg       0.97      0.59      0.65    172972\n",
            "weighted avg       1.00      1.00      1.00    172972\n",
            "\n"
          ]
        }
      ]
    },
    {
      "cell_type": "code",
      "source": [],
      "metadata": {
        "id": "NxUojjR7HJF9"
      },
      "execution_count": null,
      "outputs": []
    }
  ]
}